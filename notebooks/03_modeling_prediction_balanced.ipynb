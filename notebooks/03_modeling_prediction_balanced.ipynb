{
 "cells": [
  {
   "cell_type": "markdown",
   "id": "1b605964",
   "metadata": {},
   "source": [
    "# 03 - Modeling Prediction with Class Balancing\n",
    "This notebook trains machine learning models to predict patient no-shows, using SMOTE to balance the dataset."
   ]
  },
  {
   "cell_type": "code",
   "execution_count": null,
   "id": "e745d30d",
   "metadata": {},
   "outputs": [],
   "source": [
    "import pandas as pd\n",
    "from sklearn.model_selection import train_test_split\n",
    "from sklearn.ensemble import RandomForestClassifier\n",
    "from sklearn.metrics import classification_report, confusion_matrix, accuracy_score\n",
    "from imblearn.over_sampling import SMOTE\n",
    "\n",
    "# Load dataset\n",
    "df = pd.read_csv('../data/healthcare_noshows_appt.csv')\n",
    "\n",
    "# Rename columns\n",
    "df.rename(columns={\n",
    "    'Hipertension': 'Hypertension',\n",
    "    'Handcap': 'Handicap',\n",
    "    'Showed_up': 'ShowedUp',\n",
    "    'Date.diff': 'LeadTimeDays'\n",
    "}, inplace=True)\n",
    "\n",
    "# Convert date columns\n",
    "df['ScheduledDay'] = pd.to_datetime(df['ScheduledDay'])\n",
    "df['AppointmentDay'] = pd.to_datetime(df['AppointmentDay'])\n",
    "\n",
    "# Feature engineering\n",
    "df['AppointmentWeekday'] = df['AppointmentDay'].dt.dayofweek\n",
    "df['LeadTime'] = (df['AppointmentDay'] - df['ScheduledDay']).dt.days\n",
    "df['HourScheduled'] = df['ScheduledDay'].dt.hour"
   ]
  },
  {
   "cell_type": "markdown",
   "id": "a58fd806",
   "metadata": {},
   "source": [
    "## Preprocessing & SMOTE Oversampling"
   ]
  },
  {
   "cell_type": "code",
   "execution_count": null,
   "id": "8ff324dc",
   "metadata": {},
   "outputs": [],
   "source": [
    "# Drop unnecessary columns\n",
    "df.drop(['PatientId', 'AppointmentID', 'ScheduledDay', 'AppointmentDay', 'Neighbourhood'], axis=1, inplace=True, errors='ignore')\n",
    "\n",
    "# Encode categorical variables\n",
    "df['Gender'] = df['Gender'].map({'F': 0, 'M': 1})\n",
    "df['ShowedUp'] = df['ShowedUp'].astype(int)\n",
    "\n",
    "# Features and target\n",
    "X = df.drop('ShowedUp', axis=1)\n",
    "y = df['ShowedUp']\n",
    "\n",
    "# Split before applying SMOTE to avoid data leakage\n",
    "X_train, X_test, y_train, y_test = train_test_split(X, y, test_size=0.2, random_state=42)\n",
    "\n",
    "# Apply SMOTE to training data\n",
    "sm = SMOTE(random_state=42)\n",
    "X_res, y_res = sm.fit_resample(X_train, y_train)\n",
    "\n",
    "print('Original dataset shape:', y_train.value_counts().to_dict())\n",
    "print('Resampled dataset shape:', pd.Series(y_res).value_counts().to_dict())"
   ]
  },
  {
   "cell_type": "markdown",
   "id": "61e1bb89",
   "metadata": {},
   "source": [
    "## Train Model on Balanced Data"
   ]
  },
  {
   "cell_type": "code",
   "execution_count": null,
   "id": "075b633c",
   "metadata": {},
   "outputs": [],
   "source": [
    "# Train Random Forest model\n",
    "clf = RandomForestClassifier(random_state=42)\n",
    "clf.fit(X_res, y_res)\n",
    "\n",
    "# Evaluate\n",
    "y_pred = clf.predict(X_test)\n",
    "print(confusion_matrix(y_test, y_pred))\n",
    "print(classification_report(y_test, y_pred))\n",
    "print('Accuracy:', accuracy_score(y_test, y_pred))"
   ]
  }
 ],
 "metadata": {},
 "nbformat": 4,
 "nbformat_minor": 5
}
