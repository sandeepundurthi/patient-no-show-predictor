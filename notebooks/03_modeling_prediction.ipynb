{
 "cells": [
  {
   "cell_type": "markdown",
   "id": "375ec670",
   "metadata": {},
   "source": [
    "# 03 - Modeling Prediction\n",
    "This notebook builds machine learning models to predict whether a patient will show up for their medical appointment."
   ]
  },
  {
   "cell_type": "code",
   "execution_count": null,
   "id": "52338453",
   "metadata": {},
   "outputs": [],
   "source": [
    "import pandas as pd\n",
    "from sklearn.model_selection import train_test_split\n",
    "from sklearn.ensemble import RandomForestClassifier\n",
    "from sklearn.metrics import classification_report, confusion_matrix, accuracy_score\n",
    "\n",
    "# Load cleaned dataset\n",
    "df = pd.read_csv('../data/healthcare_noshows_appt.csv')\n",
    "\n",
    "# Rename and convert necessary fields\n",
    "df.rename(columns={\n",
    "    'Hipertension': 'Hypertension',\n",
    "    'Handcap': 'Handicap',\n",
    "    'Showed_up': 'ShowedUp',\n",
    "    'Date.diff': 'LeadTimeDays'\n",
    "}, inplace=True)\n",
    "\n",
    "# Feature engineering\n",
    "df['ScheduledDay'] = pd.to_datetime(df['ScheduledDay'])\n",
    "df['AppointmentDay'] = pd.to_datetime(df['AppointmentDay'])\n",
    "df['AppointmentWeekday'] = df['AppointmentDay'].dt.dayofweek\n",
    "df['LeadTime'] = (df['AppointmentDay'] - df['ScheduledDay']).dt.days\n",
    "df['HourScheduled'] = df['ScheduledDay'].dt.hour\n"
   ]
  },
  {
   "cell_type": "markdown",
   "id": "121e695a",
   "metadata": {},
   "source": [
    "## Data Preprocessing"
   ]
  },
  {
   "cell_type": "code",
   "execution_count": null,
   "id": "d0802d07",
   "metadata": {},
   "outputs": [],
   "source": [
    "# Drop unused columns\n",
    "df.drop(['PatientId', 'AppointmentID', 'ScheduledDay', 'AppointmentDay', 'Neighbourhood'], axis=1, inplace=True, errors='ignore')\n",
    "\n",
    "# Encode categorical values\n",
    "df['Gender'] = df['Gender'].map({'F': 0, 'M': 1})\n",
    "df['ShowedUp'] = df['ShowedUp'].astype(int)\n",
    "\n",
    "# Define features and label\n",
    "X = df.drop('ShowedUp', axis=1)\n",
    "y = df['ShowedUp']\n",
    "\n",
    "# Train-test split\n",
    "X_train, X_test, y_train, y_test = train_test_split(X, y, test_size=0.2, random_state=42)\n"
   ]
  },
  {
   "cell_type": "markdown",
   "id": "790681e6",
   "metadata": {},
   "source": [
    "## Random Forest Classifier"
   ]
  },
  {
   "cell_type": "code",
   "execution_count": null,
   "id": "90a2e3ab",
   "metadata": {},
   "outputs": [],
   "source": [
    "# Train model\n",
    "clf = RandomForestClassifier(random_state=42)\n",
    "clf.fit(X_train, y_train)\n",
    "\n",
    "# Predict and evaluate\n",
    "y_pred = clf.predict(X_test)\n",
    "print(confusion_matrix(y_test, y_pred))\n",
    "print(classification_report(y_test, y_pred))\n",
    "print('Accuracy:', accuracy_score(y_test, y_pred))"
   ]
  }
 ],
 "metadata": {},
 "nbformat": 4,
 "nbformat_minor": 5
}
