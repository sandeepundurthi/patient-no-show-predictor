{
 "cells": [
  {
   "cell_type": "markdown",
   "id": "1d687d7e",
   "metadata": {},
   "source": [
    "# 02 - EDA & Visualization\n",
    "This notebook explores patterns in patient no-show behavior using visualizations."
   ]
  },
  {
   "cell_type": "code",
   "execution_count": null,
   "id": "72b67592",
   "metadata": {},
   "outputs": [],
   "source": [
    "import pandas as pd\n",
    "import matplotlib.pyplot as plt\n",
    "import seaborn as sns\n",
    "\n",
    "# Load dataset\n",
    "df = pd.read_csv('../data/healthcare_noshows_appt.csv')\n",
    "\n",
    "# Rename columns\n",
    "df.rename(columns={\n",
    "    'Hipertension': 'Hypertension',\n",
    "    'Handcap': 'Handicap',\n",
    "    'Showed_up': 'ShowedUp',\n",
    "    'Date.diff': 'LeadTimeDays'\n",
    "}, inplace=True)\n",
    "\n",
    "# Convert to datetime\n",
    "df['ScheduledDay'] = pd.to_datetime(df['ScheduledDay'])\n",
    "df['AppointmentDay'] = pd.to_datetime(df['AppointmentDay'])\n",
    "\n",
    "# Feature engineering\n",
    "df['AppointmentWeekday'] = df['AppointmentDay'].dt.day_name()\n",
    "df['ScheduledWeekday'] = df['ScheduledDay'].dt.day_name()\n",
    "df['LeadTime'] = (df['AppointmentDay'] - df['ScheduledDay']).dt.days\n",
    "df['HourScheduled'] = df['ScheduledDay'].dt.hour\n"
   ]
  },
  {
   "cell_type": "markdown",
   "id": "c2f4fdcd",
   "metadata": {},
   "source": [
    "## Gender vs. Showed Up"
   ]
  },
  {
   "cell_type": "code",
   "execution_count": null,
   "id": "f9bac483",
   "metadata": {},
   "outputs": [],
   "source": [
    "plt.figure(figsize=(10, 5))\n",
    "sns.countplot(data=df, x='Gender', hue='ShowedUp')\n",
    "plt.title('Showed Up vs Gender')\n",
    "plt.tight_layout()\n",
    "plt.show()"
   ]
  },
  {
   "cell_type": "markdown",
   "id": "6006d452",
   "metadata": {},
   "source": [
    "## Age Distribution by Showed Up"
   ]
  },
  {
   "cell_type": "code",
   "execution_count": null,
   "id": "46b50521",
   "metadata": {},
   "outputs": [],
   "source": [
    "plt.figure(figsize=(12, 6))\n",
    "sns.histplot(data=df, x='Age', hue='ShowedUp', multiple='stack', bins=30)\n",
    "plt.title('Age Distribution by Showed Up')\n",
    "plt.tight_layout()\n",
    "plt.show()"
   ]
  },
  {
   "cell_type": "markdown",
   "id": "3baad4ff",
   "metadata": {},
   "source": [
    "## Showed Up by Appointment Weekday"
   ]
  },
  {
   "cell_type": "code",
   "execution_count": null,
   "id": "82185672",
   "metadata": {},
   "outputs": [],
   "source": [
    "plt.figure(figsize=(12, 6))\n",
    "sns.countplot(data=df, x='AppointmentWeekday', order=[\n",
    "    'Monday', 'Tuesday', 'Wednesday', 'Thursday', 'Friday', 'Saturday'], hue='ShowedUp')\n",
    "plt.title('Showed Up by Appointment Weekday')\n",
    "plt.tight_layout()\n",
    "plt.show()"
   ]
  }
 ],
 "metadata": {},
 "nbformat": 4,
 "nbformat_minor": 5
}
