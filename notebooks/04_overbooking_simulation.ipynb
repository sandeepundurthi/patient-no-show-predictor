{
 "cells": [
  {
   "cell_type": "markdown",
   "id": "73f54810",
   "metadata": {},
   "source": [
    "# 04 - Overbooking Simulation\n",
    "This notebook simulates an overbooking strategy for high no-show risk patients to minimize idle appointment slots."
   ]
  },
  {
   "cell_type": "code",
   "execution_count": null,
   "id": "4d884fd9",
   "metadata": {},
   "outputs": [],
   "source": [
    "import pandas as pd\n",
    "import numpy as np\n",
    "from sklearn.model_selection import train_test_split\n",
    "from sklearn.ensemble import RandomForestClassifier\n",
    "\n",
    "# Load data\n",
    "df = pd.read_csv('../data/healthcare_noshows_appt.csv')\n",
    "\n",
    "# Rename and convert\n",
    "df.rename(columns={\n",
    "    'Hipertension': 'Hypertension',\n",
    "    'Handcap': 'Handicap',\n",
    "    'Showed_up': 'ShowedUp',\n",
    "    'Date.diff': 'LeadTimeDays'\n",
    "}, inplace=True)\n",
    "df['ScheduledDay'] = pd.to_datetime(df['ScheduledDay'])\n",
    "df['AppointmentDay'] = pd.to_datetime(df['AppointmentDay'])\n",
    "df['AppointmentWeekday'] = df['AppointmentDay'].dt.dayofweek\n",
    "df['LeadTime'] = (df['AppointmentDay'] - df['ScheduledDay']).dt.days\n",
    "df['HourScheduled'] = df['ScheduledDay'].dt.hour\n",
    "df['Gender'] = df['Gender'].map({'F': 0, 'M': 1})\n",
    "df['ShowedUp'] = df['ShowedUp'].astype(int)\n",
    "df.drop(['PatientId', 'AppointmentID', 'ScheduledDay', 'AppointmentDay', 'Neighbourhood'], axis=1, inplace=True, errors='ignore')"
   ]
  },
  {
   "cell_type": "code",
   "execution_count": null,
   "id": "71182c5e",
   "metadata": {},
   "outputs": [],
   "source": [
    "# Features and target\n",
    "X = df.drop('ShowedUp', axis=1)\n",
    "y = df['ShowedUp']\n",
    "X_train, X_test, y_train, y_test = train_test_split(X, y, test_size=0.2, random_state=42)\n",
    "\n",
    "# Train classifier\n",
    "model = RandomForestClassifier(random_state=42)\n",
    "model.fit(X_train, y_train)\n",
    "\n",
    "# Predict probabilities\n",
    "y_probs = model.predict_proba(X_test)[:, 1]  # Probability of showing up"
   ]
  },
  {
   "cell_type": "markdown",
   "id": "d91a5c2d",
   "metadata": {},
   "source": [
    "## Simulate Overbooking Strategy"
   ]
  },
  {
   "cell_type": "code",
   "execution_count": null,
   "id": "e75f21f5",
   "metadata": {},
   "outputs": [],
   "source": [
    "# Define overbooking rule\n",
    "threshold = 0.5  # patients with < 0.5 prob are high risk for no-show\n",
    "\n",
    "# Simulate overbooking: allow 2 patients in a slot if both < threshold\n",
    "high_risk = y_probs < threshold\n",
    "overbooked_slots = np.sum(high_risk) // 2\n",
    "\n",
    "print(f\"Total high-risk patients: {np.sum(high_risk)}\")\n",
    "print(f\"Suggested number of overbooked slots: {overbooked_slots}\")"
   ]
  },
  {
   "cell_type": "markdown",
   "id": "a81596ec",
   "metadata": {},
   "source": [
    "## Evaluate Impact"
   ]
  },
  {
   "cell_type": "code",
   "execution_count": null,
   "id": "a0c5aca1",
   "metadata": {},
   "outputs": [],
   "source": [
    "import matplotlib.pyplot as plt\n",
    "\n",
    "# Histogram of show-up probabilities\n",
    "plt.hist(y_probs, bins=30, edgecolor='k')\n",
    "plt.axvline(threshold, color='red', linestyle='--')\n",
    "plt.title('Distribution of Show-Up Probabilities')\n",
    "plt.xlabel('Predicted Show-Up Probability')\n",
    "plt.ylabel('Number of Patients')\n",
    "plt.show()"
   ]
  }
 ],
 "metadata": {},
 "nbformat": 4,
 "nbformat_minor": 5
}
